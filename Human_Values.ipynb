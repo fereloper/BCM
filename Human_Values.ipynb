{
  "nbformat": 4,
  "nbformat_minor": 0,
  "metadata": {
    "colab": {
      "name": "Human Values.ipynb",
      "version": "0.3.2",
      "provenance": [],
      "collapsed_sections": [],
      "toc_visible": true
    },
    "kernelspec": {
      "name": "python3",
      "display_name": "Python 3"
    }
  },
  "cells": [
    {
      "cell_type": "markdown",
      "metadata": {
        "id": "o68uJvtxuMcM",
        "colab_type": "text"
      },
      "source": [
        "# Install required packages"
      ]
    },
    {
      "cell_type": "code",
      "metadata": {
        "id": "xhlvs_B76Qsa",
        "colab_type": "code",
        "colab": {}
      },
      "source": [
        "!pip install --upgrade \"ibm-watson>=3.2.0\"\n",
        "\n",
        "from ibm_watson import PersonalityInsightsV3\n",
        "\n",
        "import json\n",
        "from ibm_watson import ApiException\n",
        "from google.colab import files\n",
        "from google.colab import drive"
      ],
      "execution_count": 0,
      "outputs": []
    },
    {
      "cell_type": "markdown",
      "metadata": {
        "id": "UN5lqrqjubSa",
        "colab_type": "text"
      },
      "source": [
        "# Initialize Watson API"
      ]
    },
    {
      "cell_type": "code",
      "metadata": {
        "id": "e5PqH00g7Cp5",
        "colab_type": "code",
        "colab": {}
      },
      "source": [
        "personality_insights = PersonalityInsightsV3(\n",
        "    version='2017-10-13',\n",
        "    iam_apikey='{API_KEY}',\n",
        "    url='https://gateway.watsonplatform.net/personality-insights/api'\n",
        ")"
      ],
      "execution_count": 0,
      "outputs": []
    },
    {
      "cell_type": "markdown",
      "metadata": {
        "id": "tBZtT4WSu0qj",
        "colab_type": "text"
      },
      "source": [
        "# Get the result from Watson API"
      ]
    },
    {
      "cell_type": "code",
      "metadata": {
        "id": "m9zAhIgY7r_o",
        "colab_type": "code",
        "colab": {}
      },
      "source": [
        "try:\n",
        "  valuesT1 = []\n",
        "  valuesT2 = []\n",
        "  with open(\"all.txt\") as json_data:\n",
        "     data = json.load(json_data)\n",
        "  \n",
        "  for user in data[\"t1\"]:\n",
        "    response = personality_insights.profile(content=user, accept=\"application/json\", content_type = 'application/json' )\n",
        "    result = response.get_result()\n",
        "    valuesT1.append(result['values'])\n",
        "    \n",
        "  for user in data[\"t2\"]:\n",
        "    response = personality_insights.profile(content=user, accept=\"application/json\", content_type = 'application/json' )\n",
        "    result = response.get_result()\n",
        "    valuesT2.append(result['values'])\n",
        "  \n",
        "except ApiException as ex:\n",
        "  print(\"Method failed with status code \" + str(ex.code) + \": \" + ex.message)"
      ],
      "execution_count": 0,
      "outputs": []
    },
    {
      "cell_type": "markdown",
      "metadata": {
        "id": "gGChjY7RvC3W",
        "colab_type": "text"
      },
      "source": [
        "# Function who returns the item fron an array"
      ]
    },
    {
      "cell_type": "code",
      "metadata": {
        "id": "4DWLMjB-2z-u",
        "colab_type": "code",
        "colab": {}
      },
      "source": [
        "def getPercentile(arr, key):\n",
        "  for item in arr:\n",
        "    if item[\"name\"] == key:\n",
        "      return item\n",
        "  "
      ],
      "execution_count": 0,
      "outputs": []
    },
    {
      "cell_type": "markdown",
      "metadata": {
        "id": "EHlpmC0svIiG",
        "colab_type": "text"
      },
      "source": [
        "# Calculate BCM for t1"
      ]
    },
    {
      "cell_type": "code",
      "metadata": {
        "id": "cJ81Izcubz6q",
        "colab_type": "code",
        "colab": {}
      },
      "source": [
        "BHV_M1 = valuesT1[0]\n",
        "BHV_M2 = valuesT2[0]\n",
        "\n",
        "ego = 0.2\n",
        "thrashold = 0.05\n",
        "final_result_t1 = []\n",
        "index = 0\n",
        "\n",
        "for j in valuesT1[1:4]:\n",
        "  BHV_M1_temp = {}\n",
        "  for value in j:\n",
        "    BHV_M1_score = getPercentile(BHV_M1, value[\"name\"])[\"percentile\"]\n",
        "    \n",
        "    # Calculate theta\n",
        "    step = (thrashold - abs(float(value[\"percentile\"]) - float(BHV_M1_score)))\n",
        "    \n",
        "    if step > 0:\n",
        "      step = 1\n",
        "    else:\n",
        "      step = 0\n",
        "      \n",
        "    \n",
        "    BHV_M1_temp[value[\"name\"]] = BHV_M1_score + ego * (value[\"percentile\"] - BHV_M1_score) * step\n",
        "  \n",
        "  final_result_t1.append(BHV_M1_temp)  "
      ],
      "execution_count": 0,
      "outputs": []
    },
    {
      "cell_type": "markdown",
      "metadata": {
        "id": "2XnHfqv2wHcX",
        "colab_type": "text"
      },
      "source": [
        "# Calculate BCM for t2"
      ]
    },
    {
      "cell_type": "code",
      "metadata": {
        "id": "EkPm3i2Bzr4-",
        "colab_type": "code",
        "colab": {}
      },
      "source": [
        "final_result_t2 = []\n",
        "index = 0\n",
        "for j in valuesT2[1:4]:\n",
        "  BHV_M2_temp = {}\n",
        "  for value in j:\n",
        "    BHV_M2_score = getPercentile(BHV_M2, value[\"name\"])[\"percentile\"]\n",
        "    \n",
        "    # calculate theta\n",
        "    step = (thrashold - abs(float(value[\"percentile\"]) - float(BHV_M2_score)))\n",
        "    \n",
        "    if step > 0:\n",
        "      step = 1\n",
        "    else:\n",
        "      step = 0\n",
        "    \n",
        "    BHV_M2_temp[value[\"name\"]] = BHV_M2_score + ego * (value[\"percentile\"] - BHV_M2_score) * step\n",
        "  \n",
        "  final_result_t2.append(BHV_M2_temp)\n",
        "  \n"
      ],
      "execution_count": 0,
      "outputs": []
    },
    {
      "cell_type": "code",
      "metadata": {
        "id": "appX_lMw1UH7",
        "colab_type": "code",
        "colab": {}
      },
      "source": [
        "print(json.dumps(BHV_M1, indent=2))\n",
        "print(json.dumps(BHV_M2, indent=2))\n",
        "print(json.dumps(final_result_t1, indent=2))\n",
        "print(json.dumps(final_result_t2, indent=2))"
      ],
      "execution_count": 0,
      "outputs": []
    }
  ]
}